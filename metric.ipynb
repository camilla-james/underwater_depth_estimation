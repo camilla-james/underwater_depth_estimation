{
 "cells": [
  {
   "cell_type": "markdown",
   "id": "d1f91f53-f3f7-4df9-b365-ac7b9569bea2",
   "metadata": {},
   "source": [
    "## MARE \n",
    "\n",
    "I think the quickest and easiest way to calculate the Mean Abs Relative error is to just define a function. There pytorch ignite that has a built in fct but you have to build the whole model with it to make it work, I don't think we can do it having a pre trained model\n",
    "https://pytorch-ignite.ai/blog/introduction/"
   ]
  },
  {
   "cell_type": "code",
   "execution_count": null,
   "id": "cb1587fd-df5a-45c6-afcf-bca9b6b43d1e",
   "metadata": {},
   "outputs": [],
   "source": [
    "def mean_absolute_relative_error(y_pred, y_true):\n",
    "    \"\"\"\n",
    "    Calculate the Mean Absolute Relative Error (MARE).\n",
    "\n",
    "    Parameters:\n",
    "    y_pred : torch.Tensor\n",
    "        Predicted depth values.\n",
    "    y_true : torch.Tensor\n",
    "        Ground truth depth values.\n",
    "\n",
    "    Returns:\n",
    "    float\n",
    "        Mean Absolute Relative Error (MARE).\n",
    "    \"\"\"\n",
    "    absolute_relative_error = torch.abs(y_pred - y_true) / y_true\n",
    "    mare = torch.mean(absolute_relative_error)\n",
    "    return mare.item()\n",
    "\n",
    "# Example usage:\n",
    "y_true = torch.tensor([1.0, 2.0, 3.0, 4.0, 5.0])  # Ground truth depth values\n",
    "y_pred = torch.tensor([0.75, 1.5, 2.25, 3.0, 3.75])  # Predicted depth values\n",
    "\n",
    "# Calculate MARE\n",
    "mare = mean_absolute_relative_error(y_pred, y_true)\n",
    "print(\"Mean Absolute Relative Error:\", mare)"
   ]
  },
  {
   "cell_type": "markdown",
   "id": "f4825707-2aaa-4286-9cd1-15545c69ae63",
   "metadata": {},
   "source": [
    "## Delta\n",
    "\n",
    "Similarly for the delta metrics I haven't found pre built functions but it should be easy to set a function up"
   ]
  },
  {
   "cell_type": "code",
   "execution_count": null,
   "id": "0c611709-3d91-45b9-a3c4-55c9d5c40547",
   "metadata": {},
   "outputs": [],
   "source": [
    "import torch\n",
    "\n",
    "def delta1_metric(y_pred, y_true, threshold=1.25):\n",
    "    \"\"\"\n",
    "    Calculate the δ1 metric for monocular depth estimation.\n",
    "\n",
    "    Parameters:\n",
    "    y_pred : torch.Tensor\n",
    "        Predicted depth values.\n",
    "    y_true : torch.Tensor\n",
    "        Ground truth depth values.\n",
    "    threshold : float, optional\n",
    "        Threshold for considering a pixel as correctly estimated (default is 1.25).\n",
    "\n",
    "    Returns:\n",
    "    float\n",
    "        Percentage of pixels for which max(d*/d, d/d*) < threshold.\n",
    "    \"\"\"\n",
    "    # Compute element-wise ratios\n",
    "    ratio_1 = y_true / (y_pred + 1e-7)  # Adding epsilon to avoid division by zero\n",
    "    ratio_2 = (y_pred + 1e-7) / y_true  # Adding epsilon to avoid division by zero\n",
    "    \n",
    "    # Calculate element-wise maximum ratio\n",
    "    max_ratio = torch.max(ratio_1, ratio_2)\n",
    "    \n",
    "    # Count the number of pixels where max_ratio < threshold\n",
    "    num_correct_pixels = torch.sum(max_ratio < threshold).item()\n",
    "    \n",
    "    # Calculate the percentage of pixels satisfying the condition\n",
    "    total_pixels = y_true.numel()\n",
    "    percentage_correct = (num_correct_pixels / total_pixels) * 100.0\n",
    "    \n",
    "    return percentage_correct\n",
    "\n",
    "# Example usage:\n",
    "y_true = torch.tensor([1.0, 2.0, 3.0, 4.0, 5.0])  # Ground truth depth values\n",
    "y_pred = torch.tensor([0.75, 1.5, 2.25, 3.0, 3.75])  # Predicted depth values\n",
    "\n",
    "# Calculate δ1 metric\n",
    "delta1 = delta1_metric(y_pred, y_true)\n",
    "print(\"δ1 metric:\", delta1)"
   ]
  }
 ],
 "metadata": {
  "kernelspec": {
   "display_name": "Python 3 (ipykernel)",
   "language": "python",
   "name": "python3"
  },
  "language_info": {
   "codemirror_mode": {
    "name": "ipython",
    "version": 3
   },
   "file_extension": ".py",
   "mimetype": "text/x-python",
   "name": "python",
   "nbconvert_exporter": "python",
   "pygments_lexer": "ipython3",
   "version": "3.10.13"
  }
 },
 "nbformat": 4,
 "nbformat_minor": 5
}
